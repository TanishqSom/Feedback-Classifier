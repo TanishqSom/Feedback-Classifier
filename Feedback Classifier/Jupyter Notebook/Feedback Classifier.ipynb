{
 "cells": [
  {
   "cell_type": "code",
   "execution_count": 5,
   "metadata": {},
   "outputs": [],
   "source": [
    "#List of positive words that are often used\n",
    "positive_words = ['good','great','astounding','bedazzling','brilliant','breathtaking','classy','compelling','dazzling','eclipsing','nice','amazing','relaxing']\n",
    "#List of negative words that are often used\n",
    "negative_words = ['bad','worst','dissatisfactory','boring','poor','second-rate','second-class','cheap','inferior','substandard']"
   ]
  },
  {
   "cell_type": "code",
   "execution_count": 6,
   "metadata": {},
   "outputs": [],
   "source": [
    "#Creating our function \n",
    "def Classifier(feedback):\n",
    "    for i in feedback.split():\n",
    "        if i in positive_words:\n",
    "            output = \"This is a positive feedback\"\n",
    "        if i in negative_words:\n",
    "            output = \"This is a negative feedback\"\n",
    "    return output"
   ]
  },
  {
   "cell_type": "code",
   "execution_count": 7,
   "metadata": {},
   "outputs": [
    {
     "name": "stdout",
     "output_type": "stream",
     "text": [
      "Your feedback \n",
      "This was a bad movie\n"
     ]
    }
   ],
   "source": [
    "#Taking input\n",
    "feedback = str(input(\"Your feedback \\n\"))"
   ]
  },
  {
   "cell_type": "code",
   "execution_count": 8,
   "metadata": {},
   "outputs": [
    {
     "data": {
      "text/plain": [
       "'This is a negative feedback'"
      ]
     },
     "execution_count": 8,
     "metadata": {},
     "output_type": "execute_result"
    }
   ],
   "source": [
    "#Calling the function\n",
    "Classifier(feedback)"
   ]
  },
  {
   "cell_type": "code",
   "execution_count": null,
   "metadata": {},
   "outputs": [],
   "source": []
  }
 ],
 "metadata": {
  "kernelspec": {
   "display_name": "Python 3",
   "language": "python",
   "name": "python3"
  },
  "language_info": {
   "codemirror_mode": {
    "name": "ipython",
    "version": 3
   },
   "file_extension": ".py",
   "mimetype": "text/x-python",
   "name": "python",
   "nbconvert_exporter": "python",
   "pygments_lexer": "ipython3",
   "version": "3.8.5"
  }
 },
 "nbformat": 4,
 "nbformat_minor": 4
}
